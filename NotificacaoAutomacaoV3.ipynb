{
 "cells": [
  {
   "cell_type": "code",
   "execution_count": 5,
   "id": "a700a096",
   "metadata": {},
   "outputs": [],
   "source": [
    "from selenium import webdriver\n",
    "from selenium.webdriver.support.ui import WebDriverWait\n",
    "from selenium.webdriver.common.by import By\n",
    "from selenium.webdriver.support import expected_conditions as EC\n",
    "from selenium.webdriver.support.select import Select\n",
    "import time\n",
    "import pyautogui\n",
    "\n",
    "navegador = webdriver.Chrome()\n",
    "navegador.get(\"https://notifica.saude.gov.br/onboard\")"
   ]
  },
  {
   "cell_type": "code",
   "execution_count": 6,
   "id": "435ec535",
   "metadata": {
    "scrolled": true
   },
   "outputs": [],
   "source": [
    "WebDriverWait(navegador, 500).until(EC.element_to_be_clickable((By.XPATH, '//*[@id=\"main-content\"]/app-onboard/ion-content/div/div/div[2]/ion-button[2]'))).click()\n",
    "WebDriverWait(navegador, 500).until(EC.element_to_be_clickable((By.XPATH, '//*[@id=\"main-content\"]/app-login/ion-content/ion-grid/ion-row/ion-col[2]/div/ion-row/ion-col/div/ion-row/ion-col/div/ion-button/ion-label'))).click()\n",
    "WebDriverWait(navegador, 500).until(EC.element_to_be_clickable((By.XPATH, '//*[@id=\"login-cpf\"]/div[4]/a'))).click()"
   ]
  },
  {
   "cell_type": "code",
   "execution_count": 10,
   "id": "69ed59b8",
   "metadata": {
    "scrolled": false
   },
   "outputs": [
    {
     "data": {
      "text/html": [
       "<div>\n",
       "<style scoped>\n",
       "    .dataframe tbody tr th:only-of-type {\n",
       "        vertical-align: middle;\n",
       "    }\n",
       "\n",
       "    .dataframe tbody tr th {\n",
       "        vertical-align: top;\n",
       "    }\n",
       "\n",
       "    .dataframe thead th {\n",
       "        text-align: right;\n",
       "    }\n",
       "</style>\n",
       "<table border=\"1\" class=\"dataframe\">\n",
       "  <thead>\n",
       "    <tr style=\"text-align: right;\">\n",
       "      <th></th>\n",
       "      <th>CPF</th>\n",
       "      <th>TELEFONE</th>\n",
       "    </tr>\n",
       "  </thead>\n",
       "  <tbody>\n",
       "    <tr>\n",
       "      <th>0</th>\n",
       "      <td></td>\n",
       "      <td></td>\n",
       "    </tr>\n",
       "  </tbody>\n",
       "</table>\n",
       "</div>"
      ],
      "text/plain": [
       "  CPF TELEFONE\n",
       "0             "
      ]
     },
     "metadata": {},
     "output_type": "display_data"
    }
   ],
   "source": [
    "import pandas as pd\n",
    "\n",
    "tabela = pd.read_excel(\"carregamento.xlsx\")\n",
    "display(tabela)\n"
   ]
  },
  {
   "cell_type": "code",
   "execution_count": 12,
   "id": "a2fb17d2",
   "metadata": {},
   "outputs": [
    {
     "ename": "KeyboardInterrupt",
     "evalue": "",
     "output_type": "error",
     "traceback": [
      "\u001b[1;31m---------------------------------------------------------------------------\u001b[0m",
      "\u001b[1;31mKeyboardInterrupt\u001b[0m                         Traceback (most recent call last)",
      "Input \u001b[1;32mIn [12]\u001b[0m, in \u001b[0;36m<cell line: 1>\u001b[1;34m()\u001b[0m\n\u001b[0;32m     12\u001b[0m \u001b[38;5;66;03m#################################################################################################\u001b[39;00m\n\u001b[0;32m     13\u001b[0m \u001b[38;5;66;03m#################################################################################################\u001b[39;00m\n\u001b[0;32m     14\u001b[0m \n\u001b[0;32m     15\u001b[0m \n\u001b[0;32m     16\u001b[0m \u001b[38;5;66;03m#abrindo a tela de inserção\u001b[39;00m\n\u001b[0;32m     17\u001b[0m navegador\u001b[38;5;241m.\u001b[39mget(\u001b[38;5;124m\"\u001b[39m\u001b[38;5;124mhttps://notifica.saude.gov.br/notificacoes\u001b[39m\u001b[38;5;124m\"\u001b[39m)\n\u001b[1;32m---> 18\u001b[0m \u001b[43mtime\u001b[49m\u001b[38;5;241;43m.\u001b[39;49m\u001b[43msleep\u001b[49m\u001b[43m(\u001b[49m\u001b[38;5;241;43m3\u001b[39;49m\u001b[43m)\u001b[49m  \n\u001b[0;32m     20\u001b[0m \u001b[38;5;66;03m#clicando no +    \u001b[39;00m\n\u001b[0;32m     21\u001b[0m pyautogui\u001b[38;5;241m.\u001b[39mscroll(\u001b[38;5;241m10\u001b[39m)\n",
      "\u001b[1;31mKeyboardInterrupt\u001b[0m: "
     ]
    }
   ],
   "source": [
    "\n",
    "for i, cpf in enumerate(tabela [\"CPF\"]):\n",
    "    telefone = tabela.loc[i, \"TELEFONE\"]\n",
    "    \n",
    "    #################################################################################################\n",
    "    ##############################   ALTERAÇÃO DOS DADOS DA TENDA    ################################\n",
    "    \n",
    "    # ATENÇÃO: ESCREVER DENTRO DAS ASPAS \n",
    "    # EXEMPLO: (\"TENDA - BAIRRO GOIÁS\") (\"27/06/2022\")\n",
    "    \n",
    "    nome_tenda = (\"PRACA DO VIOLEIRO\")            \n",
    "    data_tenda = (\"09/05/2023\")\n",
    "    #################################################################################################\n",
    "    #################################################################################################\n",
    "    \n",
    "    \n",
    "    #abrindo a tela de inserção\n",
    "    navegador.get(\"https://notifica.saude.gov.br/notificacoes\")\n",
    "    time.sleep(3)  \n",
    "    \n",
    "    #clicando no +    \n",
    "    pyautogui.scroll(10)\n",
    "    pyautogui.click(1798, 436)\n",
    "    time.sleep(2)\n",
    "    pyautogui.scroll(10)\n",
    "\n",
    "    #clicando nos 3 primeiros select e inserção do CPF    \n",
    "    time.sleep(2) \n",
    "    WebDriverWait(navegador, 500).until(EC.element_to_be_clickable((By.XPATH, '//*[@id=\"main-content\"]/app-form-notificacao/ion-content/app-preview-form/ion-content/div[1]/div[2]/span/div/div/div[1]/div/app-campo-form/app-caixa-input/div/div/div[2]/div/div[2]/ion-row/ion-col[1]/ion-item/ion-checkbox'))).click()\n",
    "    WebDriverWait(navegador, 500).until(EC.element_to_be_clickable((By.XPATH, '//*[@id=\"main-content\"]/app-form-notificacao/ion-content/app-preview-form/ion-content/div[1]/div[2]/span/div/div/div[3]/div/app-campo-form/app-caixa-input/div/div/div[2]/div/div[2]/ion-row/ion-col[2]/ion-item/ion-checkbox'))).click()\n",
    "    WebDriverWait(navegador, 500).until(EC.element_to_be_clickable((By.XPATH, '//*[@id=\"main-content\"]/app-form-notificacao/ion-content/app-preview-form/ion-content/div[1]/div[2]/span/div/div/div[4]/div/app-campo-form/app-caixa-input/div/div/div[2]/div/div[2]/ion-row/ion-col[2]/ion-item/ion-checkbox'))).click()\n",
    "    pyautogui.scroll(-400)  \n",
    "    time.sleep(2)\n",
    "    \n",
    "    WebDriverWait(navegador, 500).until(EC.element_to_be_clickable((By.XPATH, '//*[@id=\\\"main-content\\\"]/app-form-notificacao/ion-content/app-preview-form/ion-content/div[1]/div[2]/span/div/div/div[5]/div/app-campo-form/app-caixa-input/div/div/div[2]/div/ion-input/input'))).send_keys(cpf)\n",
    "    time.sleep(5)\n",
    "    #selecao do comunidade/povo tradicional\n",
    "    pyautogui.scroll(-780)\n",
    "    time.sleep(2)\n",
    "    WebDriverWait(navegador, 500).until(EC.element_to_be_clickable((By.XPATH, '//*[@id=\"main-content\"]/app-form-notificacao/ion-content/app-preview-form/ion-content/div[1]/div[2]/span/div/div/div[18]/div/app-campo-form/app-caixa-input/div/div/div[2]/div/div[2]/ion-row/ion-col[2]/ion-item'))).click()\n",
    "    #preenchimento do numero\n",
    "    WebDriverWait(navegador, 500).until(EC.element_to_be_clickable((By.XPATH, '//*[@id=\"main-content\"]/app-form-notificacao/ion-content/app-preview-form/ion-content/div[1]/div[2]/span/div/div/div[23]/div/app-campo-form/app-caixa-input/div/div/div[2]/div/ion-input/input'))).send_keys(\"01\")\n",
    "    time.sleep(1)\n",
    "\n",
    "    #clique no busca ativa de sintomático\n",
    "    pyautogui.scroll(-800)\n",
    "    WebDriverWait(navegador, 500).until(EC.element_to_be_clickable((By.XPATH, '//*[@id=\"main-content\"]/app-form-notificacao/ion-content/app-preview-form/ion-content/div[1]/div[2]/span/div/div/div[28]/div/app-campo-form/app-caixa-input/div/div/div[2]/div/ion-input/input'))).send_keys(str(telefone))\n",
    "    time.sleep(1)\n",
    "    pyautogui.scroll(-450)\n",
    "    time.sleep(1)\n",
    "    WebDriverWait(navegador, 500).until(EC.element_to_be_clickable((By.XPATH, '//*[@id=\"main-content\"]/app-form-notificacao/ion-content/app-preview-form/ion-content/div[1]/div[3]/span/div/div/div[1]/div/app-campo-form/app-caixa-input/div/div/div[2]/div/div[2]/div/ion-item[2]/ion-checkbox'))).click()\n",
    "\n",
    "\n",
    "    #seleciona e preenche busca ativa de sintomático\n",
    "    pyautogui.scroll(-350)\n",
    "    time.sleep(2)\n",
    "    WebDriverWait(navegador, 500).until(EC.element_to_be_clickable((By.XPATH, '//*[@id=\"main-content\"]/app-form-notificacao/ion-content/app-preview-form/ion-content/div[1]/div[3]/span/div/div/div[2]/div/app-campo-form/app-caixa-input/div/div/div[2]/div/div[2]/div/ion-item[4]/ion-checkbox'))).click()\n",
    "    time.sleep(2)    \n",
    "    WebDriverWait(navegador, 500).until(EC.element_to_be_clickable((By.XPATH, '//*[@id=\"main-content\"]/app-form-notificacao/ion-content/app-preview-form/ion-content/div[1]/div[3]/span/div/div/div[3]/div/app-campo-form/app-caixa-input/div/div/div[2]/div/ion-input/input'))).send_keys(\"CONTROLE EPIDEMIOLÓGICO\")\n",
    "\n",
    "    #seleciona e preenche local da testagem\n",
    "    pyautogui.scroll(-550)\n",
    "    time.sleep(1)\n",
    "    WebDriverWait(navegador, 500).until(EC.element_to_be_clickable((By.XPATH, '//*[@id=\"main-content\"]/app-form-notificacao/ion-content/app-preview-form/ion-content/div[1]/div[3]/span/div/div/div[6]/div/app-campo-form/app-caixa-input/div/div/div[2]/div/div[2]/div/ion-item[7]/ion-checkbox'))).click()\n",
    "    WebDriverWait(navegador, 500).until(EC.element_to_be_clickable((By.XPATH, '//*[@id=\"main-content\"]/app-form-notificacao/ion-content/app-preview-form/ion-content/div[1]/div[3]/span/div/div/div[7]/div/app-campo-form/app-caixa-input/div/div/div[2]/div/ion-input/input'))).send_keys(nome_tenda)\n",
    "\n",
    "    #clique no assintomático\n",
    "    pyautogui.scroll(-400)\n",
    "    time.sleep(1)\n",
    "    WebDriverWait(navegador, 500).until(EC.element_to_be_clickable((By.XPATH, '//*[@id=\"main-content\"]/app-form-notificacao/ion-content/app-preview-form/ion-content/div[1]/div[4]/span/div/div/div[2]/div/app-campo-form/app-caixa-input/div/div/div[2]/div/div[2]/ion-item[1]/ion-checkbox'))).click()\n",
    "\n",
    "    #preenchimento dos dados do teste\n",
    "    pyautogui.scroll(-1600)\n",
    "    pyautogui.scroll(-1600)\n",
    "    WebDriverWait(navegador, 500).until(EC.element_to_be_clickable((By.XPATH, '//*[@id=\"main-content\"]/app-form-notificacao/ion-content/app-preview-form/ion-content/div[1]/div[6]/span/div[1]/div/div[1]/div/app-campo-form/app-caixa-input/div/div/div[2]/div/div[2]/ng-autocomplete/div[1]/div[1]/input'))).click()\n",
    "    time.sleep(1)\n",
    "    pyautogui.scroll(-1600)\n",
    "    WebDriverWait(navegador, 500).until(EC.element_to_be_clickable((By.XPATH, '//*[@id=\"main-content\"]/app-form-notificacao/ion-content/app-preview-form/ion-content/div[1]/div[6]/span/div[1]/div/div[1]/div/app-campo-form/app-caixa-input/div/div/div[2]/div/div[2]/ng-autocomplete/div[1]/div[2]/ul/li[1]/div/a'))).click()\n",
    "    WebDriverWait(navegador, 500).until(EC.element_to_be_clickable((By.XPATH, '//*[@id=\"main-content\"]/app-form-notificacao/ion-content/app-preview-form/ion-content/div[1]/div[6]/span/div[1]/div/div[2]/div/app-campo-form/app-caixa-input/div/div/div[2]/div/div[2]/ng-autocomplete/div[1]/div[1]/input'))).click()\n",
    "    time.sleep(1)\n",
    "    WebDriverWait(navegador, 500).until(EC.element_to_be_clickable((By.XPATH, '//*[@id=\"main-content\"]/app-form-notificacao/ion-content/app-preview-form/ion-content/div[1]/div[6]/span/div[1]/div/div[2]/div/app-campo-form/app-caixa-input/div/div/div[2]/div/div[2]/ng-autocomplete/div[1]/div[2]/ul/li[3]/div/a'))).click()\n",
    "    time.sleep(1)\n",
    "    WebDriverWait(navegador, 500).until(EC.element_to_be_clickable((By.XPATH, '//*[@id=\"main-content\"]/app-form-notificacao/ion-content/app-preview-form/ion-content/div[1]/div[6]/span/div[1]/div/div[5]/div/app-campo-form/app-caixa-input/div/div/div[2]/div/ion-input/input'))).send_keys(\"01\")\n",
    "    time.sleep(1)\n",
    "    WebDriverWait(navegador, 500).until(EC.element_to_be_clickable((By.XPATH, '//*[@id=\"main-content\"]/app-form-notificacao/ion-content/app-preview-form/ion-content/div[1]/div[6]/span/div[1]/div/div[3]/div/app-campo-form/app-caixa-input/div/div/div[2]/div/div[2]/ion-input/input'))).send_keys(data_tenda)\n",
    "    time.sleep(1)\n",
    "    WebDriverWait(navegador, 500).until(EC.element_to_be_clickable((By.XPATH, '//*[@id=\"main-content\"]/app-form-notificacao/ion-content/app-preview-form/ion-content/div[1]/div[6]/span/div[1]/div/div[4]/div/app-campo-form/app-caixa-input/div/div/div[2]/div/div[2]/ng-autocomplete/div[1]/div[1]/input'))).click()\n",
    "    time.sleep(1)\n",
    "    WebDriverWait(navegador, 500).until(EC.element_to_be_clickable((By.XPATH, '//*[@id=\"main-content\"]/app-form-notificacao/ion-content/app-preview-form/ion-content/div[1]/div[6]/span/div[1]/div/div[4]/div/app-campo-form/app-caixa-input/div/div/div[2]/div/div[2]/ng-autocomplete/div[1]/div[2]/ul/li[1]/div/a'))).click()\n",
    "    time.sleep(1)\n",
    "    WebDriverWait(navegador, 500).until(EC.element_to_be_clickable((By.XPATH, '//*[@id=\"main-content\"]/app-form-notificacao/ion-content/app-preview-form/ion-content/div[1]/div[6]/span/div[1]/div/div[6]/div/app-campo-form/app-caixa-input/div/div/div[2]/div/div[2]/ng-autocomplete/div[1]/div[1]/input'))).click()\n",
    "    pyautogui.scroll(-400)\n",
    "    time.sleep(1)\n",
    "    WebDriverWait(navegador, 500).until(EC.element_to_be_clickable((By.XPATH, '//*[@id=\"main-content\"]/app-form-notificacao/ion-content/app-preview-form/ion-content/div[1]/div[6]/span/div[1]/div/div[6]/div/app-campo-form/app-caixa-input/div/div/div[2]/div/div[2]/ng-autocomplete/div[1]/div[2]/ul/li[3]/div/a'))).click()\n",
    "    pyautogui.scroll(-400)\n",
    "\n",
    "    #finalizar envio\n",
    "    time.sleep(1)\n",
    "    pyautogui.click(505, 518)\n",
    "    time.sleep(1)\n",
    "    pyautogui.click(450, 944)\n",
    "\n",
    "    #inciar novo processo\n",
    "    time.sleep(2)\n",
    "    print(cpf)"
   ]
  },
  {
   "cell_type": "code",
   "execution_count": null,
   "id": "046d0198",
   "metadata": {},
   "outputs": [],
   "source": []
  }
 ],
 "metadata": {
  "kernelspec": {
   "display_name": "Python 3 (ipykernel)",
   "language": "python",
   "name": "python3"
  },
  "language_info": {
   "codemirror_mode": {
    "name": "ipython",
    "version": 3
   },
   "file_extension": ".py",
   "mimetype": "text/x-python",
   "name": "python",
   "nbconvert_exporter": "python",
   "pygments_lexer": "ipython3",
   "version": "3.9.12"
  }
 },
 "nbformat": 4,
 "nbformat_minor": 5
}
