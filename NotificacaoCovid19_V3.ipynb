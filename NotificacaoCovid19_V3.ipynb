for i, cpf in enumerate(tabela ["CPF"]):
    telefone = tabela.loc[i, "TELEFONE"]
    
    #################################################################################################
    ##############################   ALTERAÇÃO DOS DADOS DA TENDA    ################################
    
    # ATENÇÃO: ESCREVER DENTRO DAS ASPAS 
    # EXEMPLO: ("TENDA - BAIRRO GOIÁS") ("27/06/2022")
    
    nome_tenda = ("TENDA CEPAL JD AMERICA")            
    data_tenda = ("07/12/2022")
    #################################################################################################
    #################################################################################################
    
    
    #abrindo a tela de inserção
    navegador.get("https://notifica.saude.gov.br/notificacoes")
    time.sleep(3)  
    
    #clicando no +    
    pyautogui.scroll(10)
    pyautogui.click(1798, 436)
    time.sleep(2)
    pyautogui.scroll(10)

    #clicando nos 3 primeiros select e inserção do CPF    
    time.sleep(2) 
    WebDriverWait(navegador, 500).until(EC.element_to_be_clickable((By.XPATH, '//*[@id="main-content"]/app-form-notificacao/ion-content/app-preview-form/ion-content/div[1]/div[2]/span/div/div/div[1]/div/app-campo-form/app-caixa-input/div/div/div[2]/div/div[2]/ion-row/ion-col[1]/ion-item/ion-checkbox'))).click()
    WebDriverWait(navegador, 500).until(EC.element_to_be_clickable((By.XPATH, '//*[@id="main-content"]/app-form-notificacao/ion-content/app-preview-form/ion-content/div[1]/div[2]/span/div/div/div[3]/div/app-campo-form/app-caixa-input/div/div/div[2]/div/div[2]/ion-row/ion-col[2]/ion-item/ion-checkbox'))).click()
    WebDriverWait(navegador, 500).until(EC.element_to_be_clickable((By.XPATH, '//*[@id="main-content"]/app-form-notificacao/ion-content/app-preview-form/ion-content/div[1]/div[2]/span/div/div/div[4]/div/app-campo-form/app-caixa-input/div/div/div[2]/div/div[2]/ion-row/ion-col[2]/ion-item/ion-checkbox'))).click()
    pyautogui.scroll(-400)  
    time.sleep(2)
    
    WebDriverWait(navegador, 500).until(EC.element_to_be_clickable((By.XPATH, '//*[@id=\"main-content\"]/app-form-notificacao/ion-content/app-preview-form/ion-content/div[1]/div[2]/span/div/div/div[5]/div/app-campo-form/app-caixa-input/div/div/div[2]/div/ion-input/input'))).send_keys(cpf)
    time.sleep(5)
    #selecao do comunidade/povo tradicional
    pyautogui.scroll(-780)
    time.sleep(2)
    WebDriverWait(navegador, 500).until(EC.element_to_be_clickable((By.XPATH, '//*[@id="main-content"]/app-form-notificacao/ion-content/app-preview-form/ion-content/div[1]/div[2]/span/div/div/div[18]/div/app-campo-form/app-caixa-input/div/div/div[2]/div/div[2]/ion-row/ion-col[2]/ion-item'))).click()
    #preenchimento do numero
    WebDriverWait(navegador, 500).until(EC.element_to_be_clickable((By.XPATH, '//*[@id="main-content"]/app-form-notificacao/ion-content/app-preview-form/ion-content/div[1]/div[2]/span/div/div/div[23]/div/app-campo-form/app-caixa-input/div/div/div[2]/div/ion-input/input'))).send_keys("01")
    time.sleep(1)

    #clique no busca ativa de sintomático
    pyautogui.scroll(-800)
    WebDriverWait(navegador, 500).until(EC.element_to_be_clickable((By.XPATH, '//*[@id="main-content"]/app-form-notificacao/ion-content/app-preview-form/ion-content/div[1]/div[2]/span/div/div/div[28]/div/app-campo-form/app-caixa-input/div/div/div[2]/div/ion-input/input'))).send_keys(str(telefone))
    time.sleep(1)
    pyautogui.scroll(-450)
    time.sleep(1)
    WebDriverWait(navegador, 500).until(EC.element_to_be_clickable((By.XPATH, '//*[@id="main-content"]/app-form-notificacao/ion-content/app-preview-form/ion-content/div[1]/div[3]/span/div/div/div[1]/div/app-campo-form/app-caixa-input/div/div/div[2]/div/div[2]/div/ion-item[2]/ion-checkbox'))).click()


    #seleciona e preenche busca ativa de sintomático
    pyautogui.scroll(-350)
    time.sleep(2)
    WebDriverWait(navegador, 500).until(EC.element_to_be_clickable((By.XPATH, '//*[@id="main-content"]/app-form-notificacao/ion-content/app-preview-form/ion-content/div[1]/div[3]/span/div/div/div[2]/div/app-campo-form/app-caixa-input/div/div/div[2]/div/div[2]/div/ion-item[4]/ion-checkbox'))).click()
    time.sleep(2)    
    WebDriverWait(navegador, 500).until(EC.element_to_be_clickable((By.XPATH, '//*[@id="main-content"]/app-form-notificacao/ion-content/app-preview-form/ion-content/div[1]/div[3]/span/div/div/div[3]/div/app-campo-form/app-caixa-input/div/div/div[2]/div/ion-input/input'))).send_keys("CONTROLE EPIDEMIOLÓGICO")

    #seleciona e preenche local da testagem
    pyautogui.scroll(-550)
    time.sleep(1)
    WebDriverWait(navegador, 500).until(EC.element_to_be_clickable((By.XPATH, '//*[@id="main-content"]/app-form-notificacao/ion-content/app-preview-form/ion-content/div[1]/div[3]/span/div/div/div[6]/div/app-campo-form/app-caixa-input/div/div/div[2]/div/div[2]/div/ion-item[7]/ion-checkbox'))).click()
    WebDriverWait(navegador, 500).until(EC.element_to_be_clickable((By.XPATH, '//*[@id="main-content"]/app-form-notificacao/ion-content/app-preview-form/ion-content/div[1]/div[3]/span/div/div/div[7]/div/app-campo-form/app-caixa-input/div/div/div[2]/div/ion-input/input'))).send_keys(nome_tenda)

    #clique no assintomático
    pyautogui.scroll(-400)
    time.sleep(1)
    WebDriverWait(navegador, 500).until(EC.element_to_be_clickable((By.XPATH, '//*[@id="main-content"]/app-form-notificacao/ion-content/app-preview-form/ion-content/div[1]/div[4]/span/div/div/div[2]/div/app-campo-form/app-caixa-input/div/div/div[2]/div/div[2]/ion-item[1]/ion-checkbox'))).click()

    #preenchimento dos dados do teste
    pyautogui.scroll(-1600)
    pyautogui.scroll(-1600)
    WebDriverWait(navegador, 500).until(EC.element_to_be_clickable((By.XPATH, '//*[@id="main-content"]/app-form-notificacao/ion-content/app-preview-form/ion-content/div[1]/div[6]/span/div[1]/div/div[1]/div/app-campo-form/app-caixa-input/div/div/div[2]/div/div[2]/ng-autocomplete/div[1]/div[1]/input'))).click()
    time.sleep(1)
    pyautogui.scroll(-1600)
    WebDriverWait(navegador, 500).until(EC.element_to_be_clickable((By.XPATH, '//*[@id="main-content"]/app-form-notificacao/ion-content/app-preview-form/ion-content/div[1]/div[6]/span/div[1]/div/div[1]/div/app-campo-form/app-caixa-input/div/div/div[2]/div/div[2]/ng-autocomplete/div[1]/div[2]/ul/li[1]/div/a'))).click()
    WebDriverWait(navegador, 500).until(EC.element_to_be_clickable((By.XPATH, '//*[@id="main-content"]/app-form-notificacao/ion-content/app-preview-form/ion-content/div[1]/div[6]/span/div[1]/div/div[2]/div/app-campo-form/app-caixa-input/div/div/div[2]/div/div[2]/ng-autocomplete/div[1]/div[1]/input'))).click()
    time.sleep(1)
    WebDriverWait(navegador, 500).until(EC.element_to_be_clickable((By.XPATH, '//*[@id="main-content"]/app-form-notificacao/ion-content/app-preview-form/ion-content/div[1]/div[6]/span/div[1]/div/div[2]/div/app-campo-form/app-caixa-input/div/div/div[2]/div/div[2]/ng-autocomplete/div[1]/div[2]/ul/li[3]/div/a'))).click()
    time.sleep(1)
    WebDriverWait(navegador, 500).until(EC.element_to_be_clickable((By.XPATH, '//*[@id="main-content"]/app-form-notificacao/ion-content/app-preview-form/ion-content/div[1]/div[6]/span/div[1]/div/div[5]/div/app-campo-form/app-caixa-input/div/div/div[2]/div/ion-input/input'))).send_keys("01")
    time.sleep(1)
    WebDriverWait(navegador, 500).until(EC.element_to_be_clickable((By.XPATH, '//*[@id="main-content"]/app-form-notificacao/ion-content/app-preview-form/ion-content/div[1]/div[6]/span/div[1]/div/div[3]/div/app-campo-form/app-caixa-input/div/div/div[2]/div/div[2]/ion-input/input'))).send_keys(data_tenda)
    time.sleep(1)
    WebDriverWait(navegador, 500).until(EC.element_to_be_clickable((By.XPATH, '//*[@id="main-content"]/app-form-notificacao/ion-content/app-preview-form/ion-content/div[1]/div[6]/span/div[1]/div/div[4]/div/app-campo-form/app-caixa-input/div/div/div[2]/div/div[2]/ng-autocomplete/div[1]/div[1]/input'))).click()
    time.sleep(1)
    WebDriverWait(navegador, 500).until(EC.element_to_be_clickable((By.XPATH, '//*[@id="main-content"]/app-form-notificacao/ion-content/app-preview-form/ion-content/div[1]/div[6]/span/div[1]/div/div[4]/div/app-campo-form/app-caixa-input/div/div/div[2]/div/div[2]/ng-autocomplete/div[1]/div[2]/ul/li[1]/div/a'))).click()
    time.sleep(1)
    WebDriverWait(navegador, 500).until(EC.element_to_be_clickable((By.XPATH, '//*[@id="main-content"]/app-form-notificacao/ion-content/app-preview-form/ion-content/div[1]/div[6]/span/div[1]/div/div[6]/div/app-campo-form/app-caixa-input/div/div/div[2]/div/div[2]/ng-autocomplete/div[1]/div[1]/input'))).click()
    pyautogui.scroll(-400)
    time.sleep(1)
    WebDriverWait(navegador, 500).until(EC.element_to_be_clickable((By.XPATH, '//*[@id="main-content"]/app-form-notificacao/ion-content/app-preview-form/ion-content/div[1]/div[6]/span/div[1]/div/div[6]/div/app-campo-form/app-caixa-input/div/div/div[2]/div/div[2]/ng-autocomplete/div[1]/div[2]/ul/li[3]/div/a'))).click()
    pyautogui.scroll(-400)

    #finalizar envio
    time.sleep(1)
    pyautogui.click(505, 518)
    time.sleep(1)
    pyautogui.click(450, 944)

    #inciar novo processo
    time.sleep(2)
    print(cpf)
